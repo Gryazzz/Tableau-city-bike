{
 "cells": [
  {
   "cell_type": "code",
   "execution_count": 72,
   "metadata": {},
   "outputs": [],
   "source": [
    "from bs4 import BeautifulSoup\n",
    "import pandas as pd\n",
    "from selenium import webdriver\n",
    "from io import BytesIO\n",
    "from zipfile import ZipFile\n",
    "import urllib.request\n",
    "import os"
   ]
  },
  {
   "cell_type": "code",
   "execution_count": 2,
   "metadata": {},
   "outputs": [],
   "source": [
    "browser = webdriver.Chrome('/usr/local/bin/chromedriver')"
   ]
  },
  {
   "cell_type": "code",
   "execution_count": 3,
   "metadata": {},
   "outputs": [],
   "source": [
    "browser.get('https://s3.amazonaws.com/tripdata/index.html')"
   ]
  },
  {
   "cell_type": "code",
   "execution_count": 32,
   "metadata": {},
   "outputs": [],
   "source": [
    "#get all links\n",
    "all_links = [link.get_attribute('href') for link in browser.find_elements_by_tag_name('a')]"
   ]
  },
  {
   "cell_type": "code",
   "execution_count": 62,
   "metadata": {},
   "outputs": [],
   "source": [
    "linksJC_17 = [link for link in all_links if 'JC' in link if '2017' in link]\n",
    "linksJC_18 = [link for link in all_links if 'JC' in link if '2018' in link]"
   ]
  },
  {
   "cell_type": "code",
   "execution_count": 78,
   "metadata": {},
   "outputs": [],
   "source": [
    "df = pd.DataFrame()"
   ]
  },
  {
   "cell_type": "code",
   "execution_count": 80,
   "metadata": {},
   "outputs": [],
   "source": [
    "for link in linksJC_18:\n",
    "    url = urllib.request.urlopen(link)\n",
    "    output = open('zipFile.zip', 'wb')    \n",
    "    output.write(url.read())\n",
    "    output.close()\n",
    "    dataframe = pd.read_csv('zipFile.zip')\n",
    "    df = df.append(dataframe, ignore_index=True, sort=False)\n",
    "    os.remove('zipFile.zip')"
   ]
  },
  {
   "cell_type": "code",
   "execution_count": null,
   "metadata": {},
   "outputs": [],
   "source": []
  },
  {
   "cell_type": "code",
   "execution_count": 83,
   "metadata": {},
   "outputs": [
    {
     "data": {
      "text/plain": [
       "tripduration               143916\n",
       "starttime                  143916\n",
       "stoptime                   143916\n",
       "start station id           143916\n",
       "start station name         143916\n",
       "start station latitude     143916\n",
       "start station longitude    143916\n",
       "end station id             143916\n",
       "end station name           143916\n",
       "end station latitude       143916\n",
       "end station longitude      143916\n",
       "bikeid                     143916\n",
       "name_localizedValue0       143916\n",
       "usertype                   143916\n",
       "birth year                 138711\n",
       "gender                     143916\n",
       "dtype: int64"
      ]
     },
     "execution_count": 83,
     "metadata": {},
     "output_type": "execute_result"
    }
   ],
   "source": [
    "df.count()"
   ]
  },
  {
   "cell_type": "code",
   "execution_count": 68,
   "metadata": {},
   "outputs": [],
   "source": [
    "url = urllib.request.urlopen(\"https://s3.amazonaws.com/tripdata/JC-201801-citibike-tripdata.csv.zip\")"
   ]
  },
  {
   "cell_type": "code",
   "execution_count": 76,
   "metadata": {},
   "outputs": [],
   "source": [
    "# with ZipFile(BytesIO(url.read())) as my_zip_file:\n",
    "#         for contained_file in my_zip_file.namelist():\n",
    "#             df = pd.DataFrame(contained_file)\n",
    "            # with open((\"unzipped_and_read_\" + contained_file + \".file\"), \"wb\") as output:\n",
    "#             for line in my_zip_file.open(contained_file).readlines():\n",
    "#                 print(line)"
   ]
  },
  {
   "cell_type": "code",
   "execution_count": 69,
   "metadata": {},
   "outputs": [],
   "source": [
    "\n",
    "output = open('zipFile.zip', 'wb')    \n",
    "output.write(url.read())\n",
    "output.close()\n"
   ]
  },
  {
   "cell_type": "code",
   "execution_count": 70,
   "metadata": {},
   "outputs": [],
   "source": [
    "df = pd.read_csv('zipFile.zip')"
   ]
  },
  {
   "cell_type": "code",
   "execution_count": 85,
   "metadata": {},
   "outputs": [],
   "source": []
  },
  {
   "cell_type": "code",
   "execution_count": null,
   "metadata": {},
   "outputs": [],
   "source": []
  }
 ],
 "metadata": {
  "kernelspec": {
   "display_name": "Python 3",
   "language": "python",
   "name": "python3"
  },
  "language_info": {
   "codemirror_mode": {
    "name": "ipython",
    "version": 3
   },
   "file_extension": ".py",
   "mimetype": "text/x-python",
   "name": "python",
   "nbconvert_exporter": "python",
   "pygments_lexer": "ipython3",
   "version": "3.6.5"
  }
 },
 "nbformat": 4,
 "nbformat_minor": 2
}

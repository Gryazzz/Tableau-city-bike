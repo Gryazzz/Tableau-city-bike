{
 "cells": [
  {
   "cell_type": "code",
   "execution_count": 1,
   "metadata": {},
   "outputs": [],
   "source": [
    "from bs4 import BeautifulSoup\n",
    "import pandas as pd\n",
    "from selenium import webdriver\n"
   ]
  },
  {
   "cell_type": "code",
   "execution_count": 2,
   "metadata": {},
   "outputs": [],
   "source": [
    "browser = webdriver.Chrome('/usr/local/bin/chromedriver')"
   ]
  },
  {
   "cell_type": "code",
   "execution_count": 3,
   "metadata": {},
   "outputs": [],
   "source": [
    "browser.get('https://s3.amazonaws.com/tripdata/index.html')"
   ]
  },
  {
   "cell_type": "code",
   "execution_count": 4,
   "metadata": {},
   "outputs": [],
   "source": [
    "# html = browser.page_source\n",
    "# soup = BeautifulSoup(html, 'html.parser')"
   ]
  },
  {
   "cell_type": "code",
   "execution_count": 15,
   "metadata": {},
   "outputs": [],
   "source": [
    "table = browser.find_elements_by_css_selector('tr')\n",
    "\n",
    "# for row in table:\n",
    "#     print(browser.find_element_by_tag_name('a').get_attribute('href'))"
   ]
  },
  {
   "cell_type": "code",
   "execution_count": 19,
   "metadata": {},
   "outputs": [
    {
     "data": {
      "text/plain": [
       "[<selenium.webdriver.remote.webelement.WebElement (session=\"db65512bc486f0cd98ee1e53616a3253\", element=\"0.268284502425465-1\")>,\n",
       " <selenium.webdriver.remote.webelement.WebElement (session=\"db65512bc486f0cd98ee1e53616a3253\", element=\"0.268284502425465-2\")>,\n",
       " <selenium.webdriver.remote.webelement.WebElement (session=\"db65512bc486f0cd98ee1e53616a3253\", element=\"0.268284502425465-3\")>,\n",
       " <selenium.webdriver.remote.webelement.WebElement (session=\"db65512bc486f0cd98ee1e53616a3253\", element=\"0.268284502425465-4\")>,\n",
       " <selenium.webdriver.remote.webelement.WebElement (session=\"db65512bc486f0cd98ee1e53616a3253\", element=\"0.268284502425465-5\")>,\n",
       " <selenium.webdriver.remote.webelement.WebElement (session=\"db65512bc486f0cd98ee1e53616a3253\", element=\"0.268284502425465-6\")>,\n",
       " <selenium.webdriver.remote.webelement.WebElement (session=\"db65512bc486f0cd98ee1e53616a3253\", element=\"0.268284502425465-7\")>,\n",
       " <selenium.webdriver.remote.webelement.WebElement (session=\"db65512bc486f0cd98ee1e53616a3253\", element=\"0.268284502425465-8\")>,\n",
       " <selenium.webdriver.remote.webelement.WebElement (session=\"db65512bc486f0cd98ee1e53616a3253\", element=\"0.268284502425465-9\")>,\n",
       " <selenium.webdriver.remote.webelement.WebElement (session=\"db65512bc486f0cd98ee1e53616a3253\", element=\"0.268284502425465-10\")>,\n",
       " <selenium.webdriver.remote.webelement.WebElement (session=\"db65512bc486f0cd98ee1e53616a3253\", element=\"0.268284502425465-11\")>,\n",
       " <selenium.webdriver.remote.webelement.WebElement (session=\"db65512bc486f0cd98ee1e53616a3253\", element=\"0.268284502425465-12\")>,\n",
       " <selenium.webdriver.remote.webelement.WebElement (session=\"db65512bc486f0cd98ee1e53616a3253\", element=\"0.268284502425465-13\")>,\n",
       " <selenium.webdriver.remote.webelement.WebElement (session=\"db65512bc486f0cd98ee1e53616a3253\", element=\"0.268284502425465-14\")>,\n",
       " <selenium.webdriver.remote.webelement.WebElement (session=\"db65512bc486f0cd98ee1e53616a3253\", element=\"0.268284502425465-15\")>,\n",
       " <selenium.webdriver.remote.webelement.WebElement (session=\"db65512bc486f0cd98ee1e53616a3253\", element=\"0.268284502425465-16\")>,\n",
       " <selenium.webdriver.remote.webelement.WebElement (session=\"db65512bc486f0cd98ee1e53616a3253\", element=\"0.268284502425465-17\")>,\n",
       " <selenium.webdriver.remote.webelement.WebElement (session=\"db65512bc486f0cd98ee1e53616a3253\", element=\"0.268284502425465-18\")>,\n",
       " <selenium.webdriver.remote.webelement.WebElement (session=\"db65512bc486f0cd98ee1e53616a3253\", element=\"0.268284502425465-19\")>,\n",
       " <selenium.webdriver.remote.webelement.WebElement (session=\"db65512bc486f0cd98ee1e53616a3253\", element=\"0.268284502425465-20\")>,\n",
       " <selenium.webdriver.remote.webelement.WebElement (session=\"db65512bc486f0cd98ee1e53616a3253\", element=\"0.268284502425465-21\")>,\n",
       " <selenium.webdriver.remote.webelement.WebElement (session=\"db65512bc486f0cd98ee1e53616a3253\", element=\"0.268284502425465-22\")>,\n",
       " <selenium.webdriver.remote.webelement.WebElement (session=\"db65512bc486f0cd98ee1e53616a3253\", element=\"0.268284502425465-23\")>,\n",
       " <selenium.webdriver.remote.webelement.WebElement (session=\"db65512bc486f0cd98ee1e53616a3253\", element=\"0.268284502425465-24\")>,\n",
       " <selenium.webdriver.remote.webelement.WebElement (session=\"db65512bc486f0cd98ee1e53616a3253\", element=\"0.268284502425465-25\")>,\n",
       " <selenium.webdriver.remote.webelement.WebElement (session=\"db65512bc486f0cd98ee1e53616a3253\", element=\"0.268284502425465-26\")>,\n",
       " <selenium.webdriver.remote.webelement.WebElement (session=\"db65512bc486f0cd98ee1e53616a3253\", element=\"0.268284502425465-27\")>,\n",
       " <selenium.webdriver.remote.webelement.WebElement (session=\"db65512bc486f0cd98ee1e53616a3253\", element=\"0.268284502425465-28\")>,\n",
       " <selenium.webdriver.remote.webelement.WebElement (session=\"db65512bc486f0cd98ee1e53616a3253\", element=\"0.268284502425465-29\")>,\n",
       " <selenium.webdriver.remote.webelement.WebElement (session=\"db65512bc486f0cd98ee1e53616a3253\", element=\"0.268284502425465-30\")>,\n",
       " <selenium.webdriver.remote.webelement.WebElement (session=\"db65512bc486f0cd98ee1e53616a3253\", element=\"0.268284502425465-31\")>,\n",
       " <selenium.webdriver.remote.webelement.WebElement (session=\"db65512bc486f0cd98ee1e53616a3253\", element=\"0.268284502425465-32\")>,\n",
       " <selenium.webdriver.remote.webelement.WebElement (session=\"db65512bc486f0cd98ee1e53616a3253\", element=\"0.268284502425465-33\")>,\n",
       " <selenium.webdriver.remote.webelement.WebElement (session=\"db65512bc486f0cd98ee1e53616a3253\", element=\"0.268284502425465-34\")>,\n",
       " <selenium.webdriver.remote.webelement.WebElement (session=\"db65512bc486f0cd98ee1e53616a3253\", element=\"0.268284502425465-35\")>,\n",
       " <selenium.webdriver.remote.webelement.WebElement (session=\"db65512bc486f0cd98ee1e53616a3253\", element=\"0.268284502425465-36\")>,\n",
       " <selenium.webdriver.remote.webelement.WebElement (session=\"db65512bc486f0cd98ee1e53616a3253\", element=\"0.268284502425465-37\")>,\n",
       " <selenium.webdriver.remote.webelement.WebElement (session=\"db65512bc486f0cd98ee1e53616a3253\", element=\"0.268284502425465-38\")>,\n",
       " <selenium.webdriver.remote.webelement.WebElement (session=\"db65512bc486f0cd98ee1e53616a3253\", element=\"0.268284502425465-39\")>,\n",
       " <selenium.webdriver.remote.webelement.WebElement (session=\"db65512bc486f0cd98ee1e53616a3253\", element=\"0.268284502425465-40\")>,\n",
       " <selenium.webdriver.remote.webelement.WebElement (session=\"db65512bc486f0cd98ee1e53616a3253\", element=\"0.268284502425465-41\")>,\n",
       " <selenium.webdriver.remote.webelement.WebElement (session=\"db65512bc486f0cd98ee1e53616a3253\", element=\"0.268284502425465-42\")>,\n",
       " <selenium.webdriver.remote.webelement.WebElement (session=\"db65512bc486f0cd98ee1e53616a3253\", element=\"0.268284502425465-43\")>,\n",
       " <selenium.webdriver.remote.webelement.WebElement (session=\"db65512bc486f0cd98ee1e53616a3253\", element=\"0.268284502425465-44\")>,\n",
       " <selenium.webdriver.remote.webelement.WebElement (session=\"db65512bc486f0cd98ee1e53616a3253\", element=\"0.268284502425465-45\")>,\n",
       " <selenium.webdriver.remote.webelement.WebElement (session=\"db65512bc486f0cd98ee1e53616a3253\", element=\"0.268284502425465-46\")>,\n",
       " <selenium.webdriver.remote.webelement.WebElement (session=\"db65512bc486f0cd98ee1e53616a3253\", element=\"0.268284502425465-47\")>,\n",
       " <selenium.webdriver.remote.webelement.WebElement (session=\"db65512bc486f0cd98ee1e53616a3253\", element=\"0.268284502425465-48\")>,\n",
       " <selenium.webdriver.remote.webelement.WebElement (session=\"db65512bc486f0cd98ee1e53616a3253\", element=\"0.268284502425465-49\")>,\n",
       " <selenium.webdriver.remote.webelement.WebElement (session=\"db65512bc486f0cd98ee1e53616a3253\", element=\"0.268284502425465-50\")>,\n",
       " <selenium.webdriver.remote.webelement.WebElement (session=\"db65512bc486f0cd98ee1e53616a3253\", element=\"0.268284502425465-51\")>,\n",
       " <selenium.webdriver.remote.webelement.WebElement (session=\"db65512bc486f0cd98ee1e53616a3253\", element=\"0.268284502425465-52\")>,\n",
       " <selenium.webdriver.remote.webelement.WebElement (session=\"db65512bc486f0cd98ee1e53616a3253\", element=\"0.268284502425465-53\")>,\n",
       " <selenium.webdriver.remote.webelement.WebElement (session=\"db65512bc486f0cd98ee1e53616a3253\", element=\"0.268284502425465-54\")>,\n",
       " <selenium.webdriver.remote.webelement.WebElement (session=\"db65512bc486f0cd98ee1e53616a3253\", element=\"0.268284502425465-55\")>,\n",
       " <selenium.webdriver.remote.webelement.WebElement (session=\"db65512bc486f0cd98ee1e53616a3253\", element=\"0.268284502425465-56\")>,\n",
       " <selenium.webdriver.remote.webelement.WebElement (session=\"db65512bc486f0cd98ee1e53616a3253\", element=\"0.268284502425465-57\")>,\n",
       " <selenium.webdriver.remote.webelement.WebElement (session=\"db65512bc486f0cd98ee1e53616a3253\", element=\"0.268284502425465-58\")>,\n",
       " <selenium.webdriver.remote.webelement.WebElement (session=\"db65512bc486f0cd98ee1e53616a3253\", element=\"0.268284502425465-59\")>,\n",
       " <selenium.webdriver.remote.webelement.WebElement (session=\"db65512bc486f0cd98ee1e53616a3253\", element=\"0.268284502425465-60\")>,\n",
       " <selenium.webdriver.remote.webelement.WebElement (session=\"db65512bc486f0cd98ee1e53616a3253\", element=\"0.268284502425465-61\")>,\n",
       " <selenium.webdriver.remote.webelement.WebElement (session=\"db65512bc486f0cd98ee1e53616a3253\", element=\"0.268284502425465-62\")>,\n",
       " <selenium.webdriver.remote.webelement.WebElement (session=\"db65512bc486f0cd98ee1e53616a3253\", element=\"0.268284502425465-63\")>,\n",
       " <selenium.webdriver.remote.webelement.WebElement (session=\"db65512bc486f0cd98ee1e53616a3253\", element=\"0.268284502425465-64\")>,\n",
       " <selenium.webdriver.remote.webelement.WebElement (session=\"db65512bc486f0cd98ee1e53616a3253\", element=\"0.268284502425465-65\")>,\n",
       " <selenium.webdriver.remote.webelement.WebElement (session=\"db65512bc486f0cd98ee1e53616a3253\", element=\"0.268284502425465-66\")>,\n",
       " <selenium.webdriver.remote.webelement.WebElement (session=\"db65512bc486f0cd98ee1e53616a3253\", element=\"0.268284502425465-67\")>,\n",
       " <selenium.webdriver.remote.webelement.WebElement (session=\"db65512bc486f0cd98ee1e53616a3253\", element=\"0.268284502425465-68\")>,\n",
       " <selenium.webdriver.remote.webelement.WebElement (session=\"db65512bc486f0cd98ee1e53616a3253\", element=\"0.268284502425465-69\")>,\n",
       " <selenium.webdriver.remote.webelement.WebElement (session=\"db65512bc486f0cd98ee1e53616a3253\", element=\"0.268284502425465-70\")>,\n",
       " <selenium.webdriver.remote.webelement.WebElement (session=\"db65512bc486f0cd98ee1e53616a3253\", element=\"0.268284502425465-71\")>,\n",
       " <selenium.webdriver.remote.webelement.WebElement (session=\"db65512bc486f0cd98ee1e53616a3253\", element=\"0.268284502425465-72\")>,\n",
       " <selenium.webdriver.remote.webelement.WebElement (session=\"db65512bc486f0cd98ee1e53616a3253\", element=\"0.268284502425465-73\")>,\n",
       " <selenium.webdriver.remote.webelement.WebElement (session=\"db65512bc486f0cd98ee1e53616a3253\", element=\"0.268284502425465-74\")>,\n",
       " <selenium.webdriver.remote.webelement.WebElement (session=\"db65512bc486f0cd98ee1e53616a3253\", element=\"0.268284502425465-75\")>,\n",
       " <selenium.webdriver.remote.webelement.WebElement (session=\"db65512bc486f0cd98ee1e53616a3253\", element=\"0.268284502425465-76\")>,\n",
       " <selenium.webdriver.remote.webelement.WebElement (session=\"db65512bc486f0cd98ee1e53616a3253\", element=\"0.268284502425465-77\")>,\n",
       " <selenium.webdriver.remote.webelement.WebElement (session=\"db65512bc486f0cd98ee1e53616a3253\", element=\"0.268284502425465-78\")>,\n",
       " <selenium.webdriver.remote.webelement.WebElement (session=\"db65512bc486f0cd98ee1e53616a3253\", element=\"0.268284502425465-79\")>,\n",
       " <selenium.webdriver.remote.webelement.WebElement (session=\"db65512bc486f0cd98ee1e53616a3253\", element=\"0.268284502425465-80\")>,\n",
       " <selenium.webdriver.remote.webelement.WebElement (session=\"db65512bc486f0cd98ee1e53616a3253\", element=\"0.268284502425465-81\")>,\n",
       " <selenium.webdriver.remote.webelement.WebElement (session=\"db65512bc486f0cd98ee1e53616a3253\", element=\"0.268284502425465-82\")>,\n",
       " <selenium.webdriver.remote.webelement.WebElement (session=\"db65512bc486f0cd98ee1e53616a3253\", element=\"0.268284502425465-83\")>,\n",
       " <selenium.webdriver.remote.webelement.WebElement (session=\"db65512bc486f0cd98ee1e53616a3253\", element=\"0.268284502425465-84\")>,\n",
       " <selenium.webdriver.remote.webelement.WebElement (session=\"db65512bc486f0cd98ee1e53616a3253\", element=\"0.268284502425465-85\")>,\n",
       " <selenium.webdriver.remote.webelement.WebElement (session=\"db65512bc486f0cd98ee1e53616a3253\", element=\"0.268284502425465-86\")>,\n",
       " <selenium.webdriver.remote.webelement.WebElement (session=\"db65512bc486f0cd98ee1e53616a3253\", element=\"0.268284502425465-87\")>,\n",
       " <selenium.webdriver.remote.webelement.WebElement (session=\"db65512bc486f0cd98ee1e53616a3253\", element=\"0.268284502425465-88\")>,\n",
       " <selenium.webdriver.remote.webelement.WebElement (session=\"db65512bc486f0cd98ee1e53616a3253\", element=\"0.268284502425465-89\")>,\n",
       " <selenium.webdriver.remote.webelement.WebElement (session=\"db65512bc486f0cd98ee1e53616a3253\", element=\"0.268284502425465-90\")>,\n",
       " <selenium.webdriver.remote.webelement.WebElement (session=\"db65512bc486f0cd98ee1e53616a3253\", element=\"0.268284502425465-91\")>,\n",
       " <selenium.webdriver.remote.webelement.WebElement (session=\"db65512bc486f0cd98ee1e53616a3253\", element=\"0.268284502425465-92\")>,\n",
       " <selenium.webdriver.remote.webelement.WebElement (session=\"db65512bc486f0cd98ee1e53616a3253\", element=\"0.268284502425465-93\")>,\n",
       " <selenium.webdriver.remote.webelement.WebElement (session=\"db65512bc486f0cd98ee1e53616a3253\", element=\"0.268284502425465-94\")>,\n",
       " <selenium.webdriver.remote.webelement.WebElement (session=\"db65512bc486f0cd98ee1e53616a3253\", element=\"0.268284502425465-95\")>,\n",
       " <selenium.webdriver.remote.webelement.WebElement (session=\"db65512bc486f0cd98ee1e53616a3253\", element=\"0.268284502425465-96\")>,\n",
       " <selenium.webdriver.remote.webelement.WebElement (session=\"db65512bc486f0cd98ee1e53616a3253\", element=\"0.268284502425465-97\")>]"
      ]
     },
     "execution_count": 19,
     "metadata": {},
     "output_type": "execute_result"
    }
   ],
   "source": [
    "browser.find_elements_by_css_selector('a')"
   ]
  },
  {
   "cell_type": "code",
   "execution_count": null,
   "metadata": {},
   "outputs": [],
   "source": []
  }
 ],
 "metadata": {
  "kernelspec": {
   "display_name": "Python 3",
   "language": "python",
   "name": "python3"
  },
  "language_info": {
   "codemirror_mode": {
    "name": "ipython",
    "version": 3
   },
   "file_extension": ".py",
   "mimetype": "text/x-python",
   "name": "python",
   "nbconvert_exporter": "python",
   "pygments_lexer": "ipython3",
   "version": "3.6.5"
  }
 },
 "nbformat": 4,
 "nbformat_minor": 2
}

{
 "cells": [
  {
   "cell_type": "code",
   "execution_count": 1,
   "metadata": {},
   "outputs": [],
   "source": [
    "from bs4 import BeautifulSoup\n",
    "import pandas as pd\n",
    "from selenium import webdriver\n"
   ]
  },
  {
   "cell_type": "code",
   "execution_count": 2,
   "metadata": {},
   "outputs": [],
   "source": [
    "browser = webdriver.Chrome('/usr/local/bin/chromedriver')"
   ]
  },
  {
   "cell_type": "code",
   "execution_count": 3,
   "metadata": {},
   "outputs": [],
   "source": [
    "browser.get('https://s3.amazonaws.com/tripdata/index.html')"
   ]
  },
  {
   "cell_type": "code",
   "execution_count": 32,
   "metadata": {},
   "outputs": [],
   "source": [
    "#get all links\n",
    "all_links = [link.get_attribute('href') for link in browser.find_elements_by_tag_name('a')]"
   ]
  },
  {
   "cell_type": "code",
   "execution_count": 50,
   "metadata": {},
   "outputs": [],
   "source": [
    "linksJC_17_18 = [link for link in all_links if 'JC' in link if '2017' in link if '2018' in link]\n",
    "    "
   ]
  },
  {
   "cell_type": "code",
   "execution_count": 45,
   "metadata": {},
   "outputs": [
    {
     "data": {
      "text/plain": [
       "['https://s3.amazonaws.com/tripdata/JC-201701-citibike-tripdata.csv.zip',\n",
       " 'https://s3.amazonaws.com/tripdata/JC-201702-citibike-tripdata.csv.zip',\n",
       " 'https://s3.amazonaws.com/tripdata/JC-201703-citibike-tripdata.csv.zip',\n",
       " 'https://s3.amazonaws.com/tripdata/JC-201704-citibike-tripdata.csv.zip',\n",
       " 'https://s3.amazonaws.com/tripdata/JC-201705-citibike-tripdata.csv.zip',\n",
       " 'https://s3.amazonaws.com/tripdata/JC-201706-citibike-tripdata.csv.zip',\n",
       " 'https://s3.amazonaws.com/tripdata/JC-201707-citibike-tripdata.csv.zip',\n",
       " 'https://s3.amazonaws.com/tripdata/JC-201708%20citibike-tripdata.csv.zip',\n",
       " 'https://s3.amazonaws.com/tripdata/JC-201709-citibike-tripdata.csv.zip',\n",
       " 'https://s3.amazonaws.com/tripdata/JC-201710-citibike-tripdata.csv.zip',\n",
       " 'https://s3.amazonaws.com/tripdata/JC-201711-citibike-tripdata.csv.zip',\n",
       " 'https://s3.amazonaws.com/tripdata/JC-201712-citibike-tripdata.csv.zip']"
      ]
     },
     "execution_count": 45,
     "metadata": {},
     "output_type": "execute_result"
    }
   ],
   "source": [
    "linksJC_2017"
   ]
  },
  {
   "cell_type": "code",
   "execution_count": null,
   "metadata": {},
   "outputs": [],
   "source": []
  },
  {
   "cell_type": "code",
   "execution_count": null,
   "metadata": {},
   "outputs": [],
   "source": []
  }
 ],
 "metadata": {
  "kernelspec": {
   "display_name": "Python 3",
   "language": "python",
   "name": "python3"
  },
  "language_info": {
   "codemirror_mode": {
    "name": "ipython",
    "version": 3
   },
   "file_extension": ".py",
   "mimetype": "text/x-python",
   "name": "python",
   "nbconvert_exporter": "python",
   "pygments_lexer": "ipython3",
   "version": "3.6.5"
  }
 },
 "nbformat": 4,
 "nbformat_minor": 2
}
